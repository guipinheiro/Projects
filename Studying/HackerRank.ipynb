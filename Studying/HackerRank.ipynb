{
 "cells": [
  {
   "cell_type": "markdown",
   "metadata": {
    "ExecuteTime": {
     "end_time": "2019-04-18T01:35:01.787554Z",
     "start_time": "2019-04-18T01:35:01.706212Z"
    }
   },
   "source": [
    "# [Diagonal Difference](https://www.hackerrank.com/challenges/diagonal-difference/problem)"
   ]
  },
  {
   "cell_type": "code",
   "execution_count": 1,
   "metadata": {
    "ExecuteTime": {
     "end_time": "2019-04-11T22:15:58.952512Z",
     "start_time": "2019-04-11T22:15:58.917916Z"
    }
   },
   "outputs": [
    {
     "data": {
      "text/plain": [
       "6"
      ]
     },
     "execution_count": 1,
     "metadata": {},
     "output_type": "execute_result"
    }
   ],
   "source": [
    "arr = [[1, 2, 3],\n",
    "       [3, 2, 1],\n",
    "       [7, 5, 3]]\n",
    "\n",
    "\n",
    "def diagonal_diff(arr):\n",
    "    soma1 = 0\n",
    "    soma2 = 0\n",
    "\n",
    "    for i in range(len(arr)):\n",
    "        soma1 += arr[i][i]\n",
    "    i2 = 0\n",
    "    for j in range(-1, -1 - len(arr), -1):\n",
    "        soma2 += arr[i2][j]\n",
    "        i2 += 1\n",
    "        dif = abs(soma1-soma2)\n",
    "    return dif\n",
    "\n",
    "\n",
    "diagonal_diff(arr)"
   ]
  },
  {
   "cell_type": "markdown",
   "metadata": {
    "ExecuteTime": {
     "end_time": "2019-04-18T01:35:55.842470Z",
     "start_time": "2019-04-18T01:35:55.830107Z"
    }
   },
   "source": [
    "# [Plus Minus](https://www.hackerrank.com/challenges/plus-minus/problem)"
   ]
  },
  {
   "cell_type": "code",
   "execution_count": 4,
   "metadata": {
    "ExecuteTime": {
     "end_time": "2019-04-18T00:36:19.723472Z",
     "start_time": "2019-04-18T00:36:19.695647Z"
    }
   },
   "outputs": [
    {
     "data": {
      "text/plain": [
       "(0.5, 0.3333333333333333, 0.16666666666666669)"
      ]
     },
     "execution_count": 4,
     "metadata": {},
     "output_type": "execute_result"
    }
   ],
   "source": [
    "def plusMinus(arr):\n",
    "    arrpos = len([i for i in arr if i > 0])/len(arr)\n",
    "    arrneg = len([i for i in arr if i < 0])/len(arr)\n",
    "    arrzero = (1-arrpos-arrneg)\n",
    "\n",
    "    return arrpos, arrneg, arrzero\n",
    "\n",
    "\n",
    "arr = [-4, 3, -9, 0, 4, 1]\n",
    "plusMinus(arr)"
   ]
  },
  {
   "cell_type": "markdown",
   "metadata": {},
   "source": [
    "# [Stair Case](https://www.hackerrank.com/challenges/staircase/problem)"
   ]
  },
  {
   "cell_type": "code",
   "execution_count": 99,
   "metadata": {
    "ExecuteTime": {
     "end_time": "2019-04-20T16:07:32.029050Z",
     "start_time": "2019-04-20T16:07:32.017784Z"
    },
    "scrolled": true
   },
   "outputs": [
    {
     "name": "stdout",
     "output_type": "stream",
     "text": [
      "  #\n",
      " ##\n",
      "###\n"
     ]
    }
   ],
   "source": [
    "stair = '#'\n",
    "space = ' '\n",
    "\n",
    "\n",
    "def staircase(n):\n",
    "    initial = 1\n",
    "    end = n\n",
    "    for i in range(n):\n",
    "        print((' ' * (end - 1)) + ('#' * (i+1)))\n",
    "        end += -1\n",
    "\n",
    "\n",
    "staircase(3)"
   ]
  },
  {
   "cell_type": "markdown",
   "metadata": {},
   "source": [
    "# [Min Max Sum](https://www.hackerrank.com/challenges/mini-max-sum/problem)"
   ]
  },
  {
   "cell_type": "code",
   "execution_count": 5,
   "metadata": {
    "ExecuteTime": {
     "end_time": "2019-04-11T22:15:59.898168Z",
     "start_time": "2019-04-11T22:15:59.888187Z"
    }
   },
   "outputs": [
    {
     "name": "stdout",
     "output_type": "stream",
     "text": [
      "10  14\n"
     ]
    }
   ],
   "source": [
    "arr = [5, 2, 3, 4, 1]\n",
    "arrs = sorted(arr)\n",
    "minsum = sum(arrs[:(len(arrs)-1)])\n",
    "maxsum = sum(arrs[-len(arrs)+1:])\n",
    "print(minsum, \"\", maxsum)"
   ]
  },
  {
   "cell_type": "markdown",
   "metadata": {},
   "source": [
    "# [Birthday Cake Candles](https://www.hackerrank.com/challenges/birthday-cake-candles/problem)"
   ]
  },
  {
   "cell_type": "code",
   "execution_count": 6,
   "metadata": {
    "ExecuteTime": {
     "end_time": "2019-04-11T22:15:59.985601Z",
     "start_time": "2019-04-11T22:15:59.974686Z"
    }
   },
   "outputs": [
    {
     "name": "stdout",
     "output_type": "stream",
     "text": [
      "3\n"
     ]
    }
   ],
   "source": [
    "def birthdayCakeCandles(ar):\n",
    "    highest = max(ar)\n",
    "    n = ar.count(highest)\n",
    "    print(n)\n",
    "\n",
    "\n",
    "ar = [1, 2, 3, 3, 3, 2, 2, 2, 2, 2, 2, 2, 2, 1]\n",
    "birthdayCakeCandles(ar)"
   ]
  },
  {
   "cell_type": "markdown",
   "metadata": {},
   "source": [
    "# [Time Conversion](https://www.hackerrank.com/challenges/time-conversion/problem)"
   ]
  },
  {
   "cell_type": "code",
   "execution_count": 7,
   "metadata": {
    "ExecuteTime": {
     "end_time": "2019-04-11T22:16:00.110058Z",
     "start_time": "2019-04-11T22:16:00.085700Z"
    }
   },
   "outputs": [
    {
     "name": "stdout",
     "output_type": "stream",
     "text": [
      "13:01:00\n"
     ]
    }
   ],
   "source": [
    "def converthour(s):\n",
    "    if (s[-2:] == 'PM') and (s[:2] == '12'):\n",
    "        return s[:8]\n",
    "    elif s[-2:] == 'PM':\n",
    "        new_hour = int(s[:2]) + 12\n",
    "        return (f'{new_hour}' + s[2:8])\n",
    "    elif (s[-2:] == 'AM') and (s[:2] == '12'):\n",
    "        return '00' + s[2:8]\n",
    "    else:\n",
    "        return s[:8]\n",
    "\n",
    "\n",
    "s = '01:01:00PM'\n",
    "print(converthour(s))"
   ]
  },
  {
   "cell_type": "markdown",
   "metadata": {},
   "source": [
    "# [Apples and Oranges](https://www.hackerrank.com/challenges/time-conversion/problem)\n",
    "\n",
    "This one is very cool because of a python trick I learned in the discussion forum that makes it so much easier!\n",
    "We can use list comprehensions and comparisons to make a list of True for our condition.\n",
    "Since our boolean True = 1, we can sum them! Check it out!"
   ]
  },
  {
   "cell_type": "code",
   "execution_count": 9,
   "metadata": {
    "ExecuteTime": {
     "end_time": "2019-04-11T22:16:00.244045Z",
     "start_time": "2019-04-11T22:16:00.233433Z"
    }
   },
   "outputs": [
    {
     "name": "stdout",
     "output_type": "stream",
     "text": [
      "2\n",
      "1\n"
     ]
    }
   ],
   "source": [
    "s = 7\n",
    "t = 11\n",
    "a = 4\n",
    "b = 15\n",
    "apples = [1, 4, 5]\n",
    "oranges = [-5, 1, 2]\n",
    "\n",
    "print(sum((s <= apple + a <= t for apple in apples)))\n",
    "print(sum((s <= orange + b <= t for orange in oranges)))"
   ]
  },
  {
   "cell_type": "markdown",
   "metadata": {},
   "source": [
    "# [Between two sets](https://www.hackerrank.com/challenges/between-two-sets/problem)\n",
    "\n",
    "Now, this one made me think because I couldn't code those loops! In my head it was very clear what to do, but when coding, it just wasn't working! However, when I realized I could create first a list of all numbers that are divisible by all elements 'a' using all() (which was new to me) array and then trying these numbers to check if they are all divisors of all elements of 'b' using any() (which was also new), everything became so much clear!"
   ]
  },
  {
   "cell_type": "code",
   "execution_count": 3,
   "metadata": {
    "ExecuteTime": {
     "end_time": "2019-04-13T20:45:33.313576Z",
     "start_time": "2019-04-13T20:45:33.302765Z"
    }
   },
   "outputs": [
    {
     "name": "stdout",
     "output_type": "stream",
     "text": [
      "3\n"
     ]
    }
   ],
   "source": [
    "a = [2, 4]\n",
    "b = [16, 32, 96]\n",
    "\n",
    "\n",
    "def interval_ints(a, b):\n",
    "    x = a[-1]\n",
    "    lista = []\n",
    "\n",
    "    while x <= b[0]:\n",
    "        if all(x % i == 0 for i in a):\n",
    "            lista.append(x)\n",
    "        x += 1\n",
    "\n",
    "    n = len(lista)\n",
    "\n",
    "    for _ in lista:\n",
    "        if any(j % _ != 0 for j in b):\n",
    "            n += -1\n",
    "\n",
    "    return(n)\n",
    "\n",
    "\n",
    "print(interval_ints(a, b))"
   ]
  },
  {
   "cell_type": "markdown",
   "metadata": {},
   "source": [
    "# [Breaking Records](https://www.hackerrank.com/challenges/breaking-best-and-worst-records/problem)"
   ]
  },
  {
   "cell_type": "code",
   "execution_count": 5,
   "metadata": {
    "ExecuteTime": {
     "end_time": "2019-04-14T22:39:05.281450Z",
     "start_time": "2019-04-14T22:39:05.270711Z"
    }
   },
   "outputs": [
    {
     "name": "stdout",
     "output_type": "stream",
     "text": [
      "1 3\n"
     ]
    }
   ],
   "source": [
    "scores = [10, 3, 15, 15, 2, 1]\n",
    "\n",
    "def breakingRecords(scores):\n",
    "    best = scores[0]\n",
    "    best_n = 0\n",
    "    worst = scores[0]\n",
    "    worst_n = 0\n",
    "    \n",
    "    for i in scores[1:]:\n",
    "        if i > best:\n",
    "            best = i\n",
    "            best_n += 1\n",
    "            \n",
    "        elif i < worst:\n",
    "            worst = i\n",
    "            worst_n += 1\n",
    "    \n",
    "    return(best_n, worst_n)\n",
    "    \n",
    "breakingRecords(scores)"
   ]
  },
  {
   "cell_type": "markdown",
   "metadata": {},
   "source": [
    "# [Birthday Chocolate](https://www.hackerrank.com/challenges/the-birthday-bar/problem)"
   ]
  },
  {
   "cell_type": "code",
   "execution_count": 7,
   "metadata": {
    "ExecuteTime": {
     "end_time": "2019-04-15T00:51:29.362594Z",
     "start_time": "2019-04-15T00:51:29.355784Z"
    }
   },
   "outputs": [],
   "source": [
    "s = [1,1,3,3]\n",
    "d = 2\n",
    "m = 2\n",
    "\n",
    "def birthday(s, d, m):\n",
    "    start = 0\n",
    "    end = m\n",
    "    ways = 0\n",
    "    while end <= (len(s)):\n",
    "        if sum(s[start:end]) == d:\n",
    "            ways += 1\n",
    "\n",
    "        start += 1\n",
    "        end += 1\n",
    "    return(ways)\n"
   ]
  },
  {
   "cell_type": "markdown",
   "metadata": {},
   "source": [
    "# [Divisible Sum](https://www.hackerrank.com/challenges/divisible-sum-pairs/problem)\n",
    "\n",
    "Now, this one is very interesting. Intuitively, I would look all the pairs and see which are divisible. However, if we take a more mathematical approach, then you can only analyze the modules of the list element to see how many pairs we can have (bigger code, less lops). Let's check!"
   ]
  },
  {
   "cell_type": "code",
   "execution_count": 3,
   "metadata": {
    "ExecuteTime": {
     "end_time": "2019-04-18T00:32:04.171390Z",
     "start_time": "2019-04-18T00:32:04.139572Z"
    }
   },
   "outputs": [
    {
     "data": {
      "text/plain": [
       "4"
      ]
     },
     "execution_count": 3,
     "metadata": {},
     "output_type": "execute_result"
    }
   ],
   "source": [
    "#solving with O((n+1)*n/2), gaussian sum, where n = len(ar) - 1 --> two loops in order to evaluate all pairs\n",
    "\n",
    "ar = [1, 3, 5, 2, 1]\n",
    "k = 3\n",
    "n = 5\n",
    "\n",
    "def divisibleSumPairs(n, k, ar):\n",
    "    pairs = 0\n",
    "    for i in range(len(ar)):\n",
    "        for j in range(i+1, len(ar)):\n",
    "            if (ar[i]+ar[j]) % k == 0:\n",
    "                pairs += 1\n",
    "    return(pairs)\n",
    "\n",
    "\n",
    "divisibleSumPairs(n, k, ar)"
   ]
  },
  {
   "cell_type": "code",
   "execution_count": 17,
   "metadata": {
    "ExecuteTime": {
     "end_time": "2019-04-18T01:40:59.555066Z",
     "start_time": "2019-04-18T01:40:59.421714Z"
    }
   },
   "outputs": [
    {
     "data": {
      "text/plain": [
       "4"
      ]
     },
     "execution_count": 17,
     "metadata": {},
     "output_type": "execute_result"
    }
   ],
   "source": [
    "#solving with O(n) --> check all elements mods modules.\n",
    "# (1) If module equals 0, then the number can be a pair with numbers of the same module. Example: k = 3 [3,6]\n",
    "# (2) If k is even, then we have a module that is half the value of k (k/2), so if we add them up, we will have a number divisible by k\n",
    "# (3) Lastly, can see all the modules that, added together, are divisible by k\n",
    "# this way, we don't have to analyze all the possible pairs, only the modules of our elements, making the algorithm much faster\n",
    "\n",
    "def divisibleSumPairs(n, k, ar):\n",
    "    mods = {}\n",
    "    pairs = 0\n",
    "\n",
    "    #creating a dictionary such as the key is the module number and the values are the elements with that module\n",
    "    mods = dict((i, list(filter(lambda x: x % k == i, ar))) for i in range(k))\n",
    "\n",
    "    #pairs with module 0\n",
    "    if len(mods[0]) > 1:\n",
    "        pairs += sum(list((i for i in range(1,len(mods[0])))))\n",
    "\n",
    "    #pairs with module k/2\n",
    "    if k%2 == 0 and len(mods[int(k/2)]) > 1:\n",
    "        pairs += sum(list((i for i in range(1,len(mods[int(k/2)])))))\n",
    "\n",
    "    start = 1\n",
    "    end = k-1\n",
    "\n",
    "    #pair with the module sum is equals to k\n",
    "    while start < end:\n",
    "        pairs += len(mods[start])*len(mods[end])\n",
    "        start += 1\n",
    "        end += -1\n",
    "\n",
    "    return(pairs)\n",
    "\n",
    "ar = [1, 3, 5, 2, 1]\n",
    "k = 3\n",
    "n = 5\n",
    "\n",
    "divisibleSumPairs(n, k, ar)"
   ]
  },
  {
   "cell_type": "markdown",
   "metadata": {},
   "source": [
    "# [Migratory Birds](https://www.hackerrank.com/challenges/migratory-birds/problem)\n",
    "\n",
    "Very interesting use of dictionary. How to loop through it:\n",
    "\n",
    "```python\n",
    "for key, value in count_dic.items():\n",
    "    if value == condition:\n",
    "        return(key)\n",
    "```"
   ]
  },
  {
   "cell_type": "code",
   "execution_count": 96,
   "metadata": {
    "ExecuteTime": {
     "end_time": "2019-04-20T15:14:26.630639Z",
     "start_time": "2019-04-20T15:14:23.343463Z"
    }
   },
   "outputs": [
    {
     "data": {
      "text/plain": [
       "6"
      ]
     },
     "execution_count": 96,
     "metadata": {},
     "output_type": "execute_result"
    }
   ],
   "source": [
    "import random\n",
    "arr = []\n",
    "for i in range(1000000):\n",
    "    arr.append(random.randint(1,10))\n",
    "    \n",
    "def migratoryBirds(arr):\n",
    "\n",
    "    #creating a list with all unique values of our array\n",
    "    unique_arr = list(set(arr))\n",
    "\n",
    "    #making a dictionary with key = integer in array and value = how many times it appears\n",
    "    count_dic = dict((i, arr.count(i)) for i in unique_arr)\n",
    "\n",
    "    #finding how many times the largest (or largests) integer(s) appears\n",
    "    max_value = max(count_dic.values())\n",
    "\n",
    "    #checking all the keys that have the largest ocurrence and looking for the smallest\n",
    "    highest_birds_list = []\n",
    "    for bird, counting in count_dic.items():\n",
    "        if counting == max_value:\n",
    "            highest_birds_list.append(bird)\n",
    "\n",
    "    return(min(highest_birds_list))\n",
    "\n",
    "migratoryBirds(arr)"
   ]
  },
  {
   "cell_type": "markdown",
   "metadata": {},
   "source": [
    "# [Day of the programmer](https://www.hackerrank.com/challenges/day-of-the-programmer/problem?h_r=next-challenge&h_v=zen)"
   ]
  },
  {
   "cell_type": "code",
   "execution_count": 29,
   "metadata": {},
   "outputs": [
    {
     "name": "stdout",
     "output_type": "stream",
     "text": [
      "[31, 59, 90, 120, 151, 181, 212, 243, 273, 304, 334, 365]\n",
      "[31, 60, 91, 121, 152, 182, 213, 244, 274, 305, 335, 366]\n",
      "[31, 46, 77, 107, 138, 168, 199, 230, 260, 291, 321, 352]\n"
     ]
    }
   ],
   "source": [
    "days_not_leap = [31,28,31,30,31,30,31,31,30,31,30,31]\n",
    "days_leap = [31,29,31,30,31,30,31,31,30,31,30,31]\n",
    "days_transition = [31,15,31,30,31,30,31,31,30,31,30,31]\n",
    "\n",
    "days = 0\n",
    "#list of numbers of days in the last day of each month\n",
    "last_day_not_leap = []\n",
    "last_day_leap = []\n",
    "last_day_transition = []\n",
    "\n",
    "#list of numbers of days in the first day of each month\n",
    "first_day_not_leap = []\n",
    "first_day_leap = []\n",
    "last_day_transition = []\n",
    "\n",
    "for i in days_not_leap:\n",
    "    days = days + i\n",
    "    last_day_not_leap.append(days)\n",
    "\n",
    "days = 0\n",
    "\n",
    "for i in days_leap:\n",
    "    days = days + i\n",
    "    last_day_leap.append(days)\n",
    "    \n",
    "days = 0\n",
    "\n",
    "for i in days_transition:\n",
    "    days = days + i\n",
    "    last_day_transition.append(days)\n",
    "\n",
    "print(last_day_not_leap)\n",
    "print(last_day_leap)\n",
    "print(last_day_transition)"
   ]
  },
  {
   "cell_type": "code",
   "execution_count": 30,
   "metadata": {},
   "outputs": [
    {
     "name": "stdout",
     "output_type": "stream",
     "text": [
      "[1, 32, 60, 91, 121, 152, 182, 213, 244, 274, 305, 335]\n",
      "[1, 32, 61, 92, 122, 153, 183, 214, 245, 275, 306, 336]\n",
      "[1, 32, 47, 78, 108, 139, 169, 200, 231, 261, 292, 322]\n"
     ]
    }
   ],
   "source": [
    "#Creating list of the number of days in the first day of each month\n",
    "first_day_not_leap = [(a+1) - b for a,b in zip(last_day_not_leap,days_not_leap)]\n",
    "first_day_leap = [(a+1) - b for a,b in zip(last_day_leap,days_leap)]\n",
    "first_day_transition = [(a+1) - b for a,b in zip(last_day_transition,days_transition)]\n",
    "\n",
    "print(first_day_not_leap)\n",
    "print(first_day_leap)\n",
    "print(first_day_transition)"
   ]
  },
  {
   "cell_type": "code",
   "execution_count": 32,
   "metadata": {},
   "outputs": [
    {
     "name": "stdout",
     "output_type": "stream",
     "text": [
      "26.09.1918\n"
     ]
    }
   ],
   "source": [
    "\n",
    "yyyy = year\n",
    "\n",
    "dic_month = {0: '01',1: '02',2: '03',3: '04',4: '05',5: '06',6: '07',7: '08',8: '09',9: '10',10: '11',11: '12'}\n",
    "index = 0\n",
    "mm = ''\n",
    "dd = ''\n",
    "day_of_programmer = 256\n",
    "\n",
    "if yyyy <= 1917: #julian calenadar\n",
    "    \n",
    "    if yyyy%4 == 0: #leap year\n",
    "        while last_day_leap[index] < day_of_programmer:\n",
    "            index += 1\n",
    "        dd = str(day_of_programmer - first_day_leap[index] + 1)\n",
    "        mm = dic_month[index]\n",
    "        \n",
    "    else: #leap year\n",
    "        while last_day_not_leap[index] < day_of_programmer:\n",
    "            index += 1\n",
    "        dd = str(day_of_programmer - first_day_not_leap[index] + 1)\n",
    "        mm = dic_month[index]\n",
    "        \n",
    "elif yyyy >= 1919: #gregorian calendar\n",
    "    \n",
    "    if (yyyy%4 == 0 and yyyy%100 != 0) or (yyyy%400 == 0): #leap year\n",
    "        while last_day_leap[index] < day_of_programmer:\n",
    "            index += 1\n",
    "        dd = str(day_of_programmer - first_day_leap[index] + 1)\n",
    "        mm = dic_month[index]\n",
    "        \n",
    "    else: #leap year\n",
    "        while last_day_not_leap[index] < day_of_programmer:\n",
    "            index += 1\n",
    "        dd = str(day_of_programmer - first_day_not_leap[index] + 1)\n",
    "        mm = dic_month[index]\n",
    "        \n",
    "else: #transition year (1918)\n",
    "    while last_day_transition[index] < day_of_programmer:\n",
    "        index += 1\n",
    "    dd = str(day_of_programmer - first_day_transition[index] + 1)\n",
    "    mm = dic_month[index]\n",
    "\n",
    "ddmmyyyy = f'{dd}.{mm}.{yyyy}'\n",
    "print(ddmmyyyy)"
   ]
  },
  {
   "cell_type": "code",
   "execution_count": 33,
   "metadata": {},
   "outputs": [],
   "source": [
    "def dayOfProgrammer(year):\n",
    "    days_not_leap = [31,28,31,30,31,30,31,31,30,31,30,31]\n",
    "    days_leap = [31,29,31,30,31,30,31,31,30,31,30,31]\n",
    "    days_transition = [31,15,31,30,31,30,31,31,30,31,30,31]\n",
    "\n",
    "    dic_month = {0: '01',1: '02',2: '03',3: '04',4: '05',5: '06',6: '07',7: '08',8: '09',9: '10',10: '11',11: '12'}\n",
    "    \n",
    "    yyyy = year\n",
    "    day_of_programmer = 256\n",
    "    \n",
    "    #list of numbers of days in the last day of each month\n",
    "    last_day_not_leap = []\n",
    "    last_day_leap = []\n",
    "    last_day_transition = []\n",
    "\n",
    "    #list of numbers of days in the first day of each month\n",
    "    first_day_not_leap = []\n",
    "    first_day_leap = []\n",
    "    last_day_transition = []\n",
    "    \n",
    "    days = 0\n",
    "    for i in days_not_leap:\n",
    "        days = days + i\n",
    "        last_day_not_leap.append(days)\n",
    "\n",
    "    days = 0\n",
    "    for i in days_leap:\n",
    "        days = days + i\n",
    "        last_day_leap.append(days)\n",
    "\n",
    "    days = 0\n",
    "    for i in days_transition:\n",
    "        days = days + i\n",
    "        last_day_transition.append(days)\n",
    "        \n",
    "    first_day_not_leap = [(a+1) - b for a,b in zip(last_day_not_leap,days_not_leap)]\n",
    "    first_day_leap = [(a+1) - b for a,b in zip(last_day_leap,days_leap)]\n",
    "    first_day_transition = [(a+1) - b for a,b in zip(last_day_transition,days_transition)]\n",
    "    \n",
    "    #now we have both lists created (number of days of the first and last day of each month by type of year (leap, not leap and transtion))\n",
    "    #with them, we can calculated which month and day we are base on the day of the programmer (or any day we want if we change the variable day of the programmer)\n",
    "    \n",
    "    #Creating conditions so we can know which calendar and type of year we have base on user input\n",
    "    index = 0 #used to see which month the day of the programmer will be depending on the year\n",
    "    mm = ''\n",
    "    dd = ''\n",
    "\n",
    "    if yyyy <= 1917: #julian calenadar    \n",
    "  \n",
    "        if yyyy%4 == 0: #leap year\n",
    "            while last_day_leap[index] < day_of_programmer:\n",
    "                index += 1\n",
    "            dd = str(day_of_programmer - first_day_leap[index] + 1)\n",
    "            mm = dic_month[index]\n",
    "\n",
    "        else: #not leap year\n",
    "            while last_day_not_leap[index] < day_of_programmer:\n",
    "                index += 1\n",
    "            dd = str(day_of_programmer - first_day_not_leap[index] + 1)\n",
    "            mm = dic_month[index]\n",
    "\n",
    "    elif yyyy >= 1919: #gregorian calendar\n",
    "\n",
    "        if (yyyy%4 == 0 and yyyy%100 != 0) or (yyyy%400 == 0): #leap year\n",
    "            while last_day_leap[index] < day_of_programmer:\n",
    "                index += 1\n",
    "            dd = str(day_of_programmer - first_day_leap[index] + 1)\n",
    "            mm = dic_month[index]\n",
    "\n",
    "        else: #not leap year\n",
    "            while last_day_not_leap[index] < day_of_programmer:\n",
    "                index += 1\n",
    "            dd = str(day_of_programmer - first_day_not_leap[index] + 1)\n",
    "            mm = dic_month[index]\n",
    "\n",
    "    else: #transition year (1918)\n",
    "        while last_day_transition[index] < day_of_programmer:\n",
    "            index += 1\n",
    "        dd = str(day_of_programmer - first_day_transition[index] + 1)\n",
    "        mm = dic_month[index]\n",
    "\n",
    "    ddmmyyyy = f'{dd}.{mm}.{yyyy}'    \n",
    "    return(ddmmyyyy)"
   ]
  },
  {
   "cell_type": "code",
   "execution_count": 37,
   "metadata": {},
   "outputs": [
    {
     "data": {
      "text/plain": [
       "'12.09.1800'"
      ]
     },
     "execution_count": 37,
     "metadata": {},
     "output_type": "execute_result"
    }
   ],
   "source": [
    "dayOfProgrammer(1800)"
   ]
  },
  {
   "cell_type": "code",
   "execution_count": null,
   "metadata": {},
   "outputs": [],
   "source": []
  }
 ],
 "metadata": {
  "hide_input": false,
  "kernelspec": {
   "display_name": "Python 3",
   "language": "python",
   "name": "python3"
  },
  "language_info": {
   "codemirror_mode": {
    "name": "ipython",
    "version": 3
   },
   "file_extension": ".py",
   "mimetype": "text/x-python",
   "name": "python",
   "nbconvert_exporter": "python",
   "pygments_lexer": "ipython3",
   "version": "3.6.8"
  },
  "varInspector": {
   "cols": {
    "lenName": 16,
    "lenType": 16,
    "lenVar": 40
   },
   "kernels_config": {
    "python": {
     "delete_cmd_postfix": "",
     "delete_cmd_prefix": "del ",
     "library": "var_list.py",
     "varRefreshCmd": "print(var_dic_list())"
    },
    "r": {
     "delete_cmd_postfix": ") ",
     "delete_cmd_prefix": "rm(",
     "library": "var_list.r",
     "varRefreshCmd": "cat(var_dic_list()) "
    }
   },
   "oldHeight": 122,
   "position": {
    "height": "144px",
    "left": "1070px",
    "right": "20px",
    "top": "120px",
    "width": "350px"
   },
   "types_to_exclude": [
    "module",
    "function",
    "builtin_function_or_method",
    "instance",
    "_Feature"
   ],
   "varInspector_section_display": "block",
   "window_display": false
  }
 },
 "nbformat": 4,
 "nbformat_minor": 2
}
