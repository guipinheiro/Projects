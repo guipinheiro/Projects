{
 "cells": [
  {
   "cell_type": "code",
   "execution_count": 1,
   "metadata": {
    "ExecuteTime": {
     "end_time": "2019-04-11T22:15:58.952512Z",
     "start_time": "2019-04-11T22:15:58.917916Z"
    }
   },
   "outputs": [
    {
     "data": {
      "text/plain": [
       "6"
      ]
     },
     "execution_count": 1,
     "metadata": {},
     "output_type": "execute_result"
    }
   ],
   "source": [
    "arr = [[1, 2, 3],\n",
    "       [3, 2, 1],\n",
    "       [7, 5, 3]]\n",
    "\n",
    "\n",
    "def diagonal_diff(arr):\n",
    "    soma1 = 0\n",
    "    soma2 = 0\n",
    "\n",
    "    for i in range(len(arr)):\n",
    "        soma1 += arr[i][i]\n",
    "    i2 = 0\n",
    "    for j in range(-1, -1 - len(arr), -1):\n",
    "        soma2 += arr[i2][j]\n",
    "        i2 += 1\n",
    "        dif = abs(soma1-soma2)\n",
    "    return dif\n",
    "\n",
    "\n",
    "diagonal_diff(arr)"
   ]
  },
  {
   "cell_type": "code",
   "execution_count": 2,
   "metadata": {
    "ExecuteTime": {
     "end_time": "2019-04-11T22:15:59.085851Z",
     "start_time": "2019-04-11T22:15:59.068653Z"
    }
   },
   "outputs": [
    {
     "name": "stdout",
     "output_type": "stream",
     "text": [
      "0.5\n",
      "0.3333333333333333\n",
      "0.16666666666666669\n",
      "None\n"
     ]
    }
   ],
   "source": [
    "arr = [-4, 3, -9, 0, 4, 1]\n",
    "\n",
    "\n",
    "def plus_minus(arr):\n",
    "    arrpos = len([i for i in arr if i > 0])/len(arr)\n",
    "    arrneg = len([i for i in arr if i < 0])/len(arr)\n",
    "    arrzero = (1-arrpos-arrneg)\n",
    "\n",
    "    print(arrpos)\n",
    "    print(arrneg)\n",
    "    print(arrzero)\n",
    "\n",
    "\n",
    "print(plus_minus(arr))"
   ]
  },
  {
   "cell_type": "code",
   "execution_count": 3,
   "metadata": {
    "ExecuteTime": {
     "end_time": "2019-04-11T22:15:59.247069Z",
     "start_time": "2019-04-11T22:15:59.234430Z"
    }
   },
   "outputs": [
    {
     "data": {
      "text/plain": [
       "(0.5, 0.3333333333333333, 0.16666666666666669)"
      ]
     },
     "execution_count": 3,
     "metadata": {},
     "output_type": "execute_result"
    }
   ],
   "source": [
    "def plusMinus(arr):\n",
    "    arrpos = len([i for i in arr if i > 0])/len(arr)\n",
    "    arrneg = len([i for i in arr if i < 0])/len(arr)\n",
    "    arrzero = (1-arrpos-arrneg)\n",
    "\n",
    "    return arrpos, arrneg, arrzero\n",
    "\n",
    "\n",
    "arr = [-4, 3, -9, 0, 4, 1]\n",
    "plusMinus(arr)"
   ]
  },
  {
   "cell_type": "code",
   "execution_count": 4,
   "metadata": {
    "ExecuteTime": {
     "end_time": "2019-04-11T22:15:59.394813Z",
     "start_time": "2019-04-11T22:15:59.386476Z"
    },
    "scrolled": true
   },
   "outputs": [
    {
     "name": "stdout",
     "output_type": "stream",
     "text": [
      "  #\n",
      " ##\n",
      "###\n"
     ]
    }
   ],
   "source": [
    "stair = '#'\n",
    "space = ' '\n",
    "\n",
    "\n",
    "def staircase(n):\n",
    "    initial = 1\n",
    "    end = n\n",
    "    for i in range(n):\n",
    "        print((' ' * (end - 1)) + ('#' * (i+1)))\n",
    "        end += -1\n",
    "\n",
    "\n",
    "staircase(3)"
   ]
  },
  {
   "cell_type": "code",
   "execution_count": 5,
   "metadata": {
    "ExecuteTime": {
     "end_time": "2019-04-11T22:15:59.898168Z",
     "start_time": "2019-04-11T22:15:59.888187Z"
    }
   },
   "outputs": [
    {
     "name": "stdout",
     "output_type": "stream",
     "text": [
      "10  14\n"
     ]
    }
   ],
   "source": [
    "arr = [5, 2, 3, 4, 1]\n",
    "arrs = sorted(arr)\n",
    "minsum = sum(arrs[:(len(arrs)-1)])\n",
    "maxsum = sum(arrs[-len(arrs)+1:])\n",
    "print(minsum, \"\", maxsum)"
   ]
  },
  {
   "cell_type": "code",
   "execution_count": 6,
   "metadata": {
    "ExecuteTime": {
     "end_time": "2019-04-11T22:15:59.985601Z",
     "start_time": "2019-04-11T22:15:59.974686Z"
    }
   },
   "outputs": [
    {
     "name": "stdout",
     "output_type": "stream",
     "text": [
      "3\n"
     ]
    }
   ],
   "source": [
    "def birthdayCakeCandles(ar):\n",
    "    highest = max(ar)\n",
    "    n = ar.count(highest)\n",
    "    print(n)\n",
    "\n",
    "\n",
    "ar = [1, 2, 3, 3, 3, 2, 2, 2, 2, 2, 2, 2, 2, 1]\n",
    "birthdayCakeCandles(ar)"
   ]
  },
  {
   "cell_type": "code",
   "execution_count": 7,
   "metadata": {
    "ExecuteTime": {
     "end_time": "2019-04-11T22:16:00.110058Z",
     "start_time": "2019-04-11T22:16:00.085700Z"
    }
   },
   "outputs": [
    {
     "name": "stdout",
     "output_type": "stream",
     "text": [
      "13:01:00\n"
     ]
    }
   ],
   "source": [
    "def converthour(s):\n",
    "    if (s[-2:] == 'PM') and (s[:2] == '12'):\n",
    "        return s[:8]\n",
    "    elif s[-2:] == 'PM':\n",
    "        new_hour = int(s[:2]) + 12\n",
    "        return (f'{new_hour}' + s[2:8])\n",
    "    elif (s[-2:] == 'AM') and (s[:2] == '12'):\n",
    "        return '00' + s[2:8]\n",
    "    else:\n",
    "        return s[:8]\n",
    "\n",
    "\n",
    "s = '01:01:00PM'\n",
    "print(converthour(s))"
   ]
  },
  {
   "cell_type": "code",
   "execution_count": 8,
   "metadata": {
    "ExecuteTime": {
     "end_time": "2019-04-11T22:16:00.172164Z",
     "start_time": "2019-04-11T22:16:00.163105Z"
    }
   },
   "outputs": [
    {
     "data": {
      "text/plain": [
       "'he'"
      ]
     },
     "execution_count": 8,
     "metadata": {},
     "output_type": "execute_result"
    }
   ],
   "source": [
    "a = 'hello'\n",
    "a[:2]"
   ]
  },
  {
   "cell_type": "code",
   "execution_count": 9,
   "metadata": {
    "ExecuteTime": {
     "end_time": "2019-04-11T22:16:00.244045Z",
     "start_time": "2019-04-11T22:16:00.233433Z"
    }
   },
   "outputs": [
    {
     "name": "stdout",
     "output_type": "stream",
     "text": [
      "2\n",
      "1\n"
     ]
    }
   ],
   "source": [
    "s = 7\n",
    "t = 11\n",
    "a = 4\n",
    "b = 15\n",
    "apples = [1, 4, 5]\n",
    "oranges = [-5, 1, 2]\n",
    "\n",
    "print(sum((s <= apple + a <= t for apple in apples)))\n",
    "print(sum((s <= orange + b <= t for orange in oranges)))"
   ]
  },
  {
   "cell_type": "code",
   "execution_count": 3,
   "metadata": {
    "ExecuteTime": {
     "end_time": "2019-04-13T20:45:33.313576Z",
     "start_time": "2019-04-13T20:45:33.302765Z"
    }
   },
   "outputs": [
    {
     "name": "stdout",
     "output_type": "stream",
     "text": [
      "3\n"
     ]
    }
   ],
   "source": [
    "a = [2, 4]\n",
    "b = [16, 32, 96]\n",
    "\n",
    "\n",
    "def interval_ints(a, b):\n",
    "    x = a[-1]\n",
    "    lista = []\n",
    "\n",
    "    while x <= b[0]:\n",
    "        if all(x % i == 0 for i in a):\n",
    "            lista.append(x)\n",
    "        x += 1\n",
    "\n",
    "    n = len(lista)\n",
    "\n",
    "    for _ in lista:\n",
    "        if any(j % _ != 0 for j in b):\n",
    "            n += -1\n",
    "\n",
    "    return(n)\n",
    "\n",
    "\n",
    "print(interval_ints(a, b))"
   ]
  },
  {
   "cell_type": "code",
   "execution_count": 5,
   "metadata": {
    "ExecuteTime": {
     "end_time": "2019-04-14T22:39:05.281450Z",
     "start_time": "2019-04-14T22:39:05.270711Z"
    }
   },
   "outputs": [
    {
     "name": "stdout",
     "output_type": "stream",
     "text": [
      "1 3\n"
     ]
    }
   ],
   "source": [
    "#breaks the record up once and down three times\n",
    "scores = [10, 3, 15, 15, 2, 1]\n",
    "\n",
    "def breakingRecords(scores):\n",
    "    best = scores[0]\n",
    "    best_n = 0\n",
    "    worst = scores[0]\n",
    "    worst_n = 0\n",
    "    \n",
    "    for i in scores[1:]:\n",
    "        if i > best:\n",
    "            best = i\n",
    "            best_n += 1\n",
    "            \n",
    "        elif i < worst:\n",
    "            worst = i\n",
    "            worst_n += 1\n",
    "    \n",
    "    return(best_n, worst_n)\n",
    "    \n",
    "breakingRecords(scores)"
   ]
  },
  {
   "cell_type": "code",
   "execution_count": 7,
   "metadata": {
    "ExecuteTime": {
     "end_time": "2019-04-15T00:51:29.362594Z",
     "start_time": "2019-04-15T00:51:29.355784Z"
    }
   },
   "outputs": [],
   "source": [
    "s = [1,1,3,3]\n",
    "d = 2\n",
    "m = 2\n",
    "\n",
    "def birthday(s, d, m):\n",
    "    start = 0\n",
    "    end = m\n",
    "    ways = 0\n",
    "    while end <= (len(s)):\n",
    "        if sum(s[start:end]) == d:\n",
    "            ways += 1\n",
    "\n",
    "        start += 1\n",
    "        end += 1\n",
    "    return(ways)\n"
   ]
  },
  {
   "cell_type": "code",
   "execution_count": 37,
   "metadata": {
    "ExecuteTime": {
     "end_time": "2019-04-16T01:17:12.782790Z",
     "start_time": "2019-04-16T01:17:12.771641Z"
    }
   },
   "outputs": [
    {
     "name": "stdout",
     "output_type": "stream",
     "text": [
      "1 5\n",
      "1 2\n",
      "5 1\n",
      "2 1\n",
      "4\n"
     ]
    }
   ],
   "source": [
    "ar = [1, 3, 5, 2, 1]\n",
    "k = 3\n",
    "n = 5\n",
    "# the pairs should be [0,2] = 1+5 , [0,3] = 1 + 2, [2,4] = 5 + 1, [3,4] = 2 + 1\n",
    "\n",
    "\n",
    "def divisibleSumPairs(n, k, ar):\n",
    "    pairs = 0\n",
    "    for i in range(len(ar)):\n",
    "        for j in range(i+1, len(ar)):\n",
    "            if (ar[i]+ar[j]) % k == 0:\n",
    "                pairs += 1\n",
    "    return(pairs)\n",
    "\n",
    "\n",
    "print(divisibleSumPairs(n, k, ar))"
   ]
  },
  {
   "cell_type": "code",
   "execution_count": 104,
   "metadata": {
    "ExecuteTime": {
     "end_time": "2019-04-16T21:57:04.838094Z",
     "start_time": "2019-04-16T21:57:04.825143Z"
    }
   },
   "outputs": [
    {
     "name": "stdout",
     "output_type": "stream",
     "text": [
      "{0: [], 1: [1, 5, 1], 2: [6, 2], 3: [3, 3]}\n",
      "1\n"
     ]
    }
   ],
   "source": [
    "ar = [1, 3, 5, 6,2, 3, 1]\n",
    "k = 4\n",
    "n = 5\n",
    "mods = {}\n",
    "pairs = 0\n",
    "\n",
    "mods = dict((i, list(filter(lambda x: x % k == i, ar))) for i in range(k))\n",
    "\n",
    "print(mods)\n",
    "\n",
    "if len(mods[0]) > 1:\n",
    "    pairs += sum(list((i for i in range(1,len(mods[0])))))\n",
    "\n",
    "if k%2 == 0 and len(mods[int(k/2)]) > 1:\n",
    "    pairs += sum(list((i for i in range(1,len(mods[int(k/2)])))))\n",
    "    \n",
    "print(pairs)"
   ]
  },
  {
   "cell_type": "code",
   "execution_count": 80,
   "metadata": {
    "ExecuteTime": {
     "end_time": "2019-04-16T21:32:48.485431Z",
     "start_time": "2019-04-16T21:32:48.481628Z"
    }
   },
   "outputs": [],
   "source": [
    "k = 4"
   ]
  },
  {
   "cell_type": "code",
   "execution_count": 81,
   "metadata": {
    "ExecuteTime": {
     "end_time": "2019-04-16T21:32:48.956683Z",
     "start_time": "2019-04-16T21:32:48.950726Z"
    }
   },
   "outputs": [
    {
     "name": "stdout",
     "output_type": "stream",
     "text": [
      "1\n"
     ]
    }
   ],
   "source": [
    "for i in range(1,int(k/2)):\n",
    "    print(i)"
   ]
  },
  {
   "cell_type": "code",
   "execution_count": 99,
   "metadata": {
    "ExecuteTime": {
     "end_time": "2019-04-16T21:49:38.761205Z",
     "start_time": "2019-04-16T21:49:38.752720Z"
    }
   },
   "outputs": [
    {
     "name": "stdout",
     "output_type": "stream",
     "text": [
      "6\n"
     ]
    }
   ],
   "source": [
    "i = 4\n",
    "lista = sum(list((i for i in range(1,i))))\n",
    "print(lista)"
   ]
  },
  {
   "cell_type": "code",
   "execution_count": null,
   "metadata": {},
   "outputs": [],
   "source": []
  }
 ],
 "metadata": {
  "hide_input": false,
  "kernelspec": {
   "display_name": "Python 3",
   "language": "python",
   "name": "python3"
  },
  "language_info": {
   "codemirror_mode": {
    "name": "ipython",
    "version": 3
   },
   "file_extension": ".py",
   "mimetype": "text/x-python",
   "name": "python",
   "nbconvert_exporter": "python",
   "pygments_lexer": "ipython3",
   "version": "3.6.8"
  },
  "varInspector": {
   "cols": {
    "lenName": 16,
    "lenType": 16,
    "lenVar": 40
   },
   "kernels_config": {
    "python": {
     "delete_cmd_postfix": "",
     "delete_cmd_prefix": "del ",
     "library": "var_list.py",
     "varRefreshCmd": "print(var_dic_list())"
    },
    "r": {
     "delete_cmd_postfix": ") ",
     "delete_cmd_prefix": "rm(",
     "library": "var_list.r",
     "varRefreshCmd": "cat(var_dic_list()) "
    }
   },
   "oldHeight": 122,
   "position": {
    "height": "144px",
    "left": "1070px",
    "right": "20px",
    "top": "120px",
    "width": "350px"
   },
   "types_to_exclude": [
    "module",
    "function",
    "builtin_function_or_method",
    "instance",
    "_Feature"
   ],
   "varInspector_section_display": "block",
   "window_display": false
  }
 },
 "nbformat": 4,
 "nbformat_minor": 2
}
