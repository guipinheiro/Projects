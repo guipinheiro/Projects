{
 "cells": [
  {
   "cell_type": "markdown",
   "metadata": {},
   "source": [
    "Video from DataQuest about PCA analysis:\n",
    "\n",
    "https://www.youtube.com/watch?v=Lsue2gEM9D0&feature=youtu.be\n",
    "\n",
    "~Bam~"
   ]
  },
  {
   "cell_type": "code",
   "execution_count": 16,
   "metadata": {
    "ExecuteTime": {
     "end_time": "2019-04-14T18:36:09.399444Z",
     "start_time": "2019-04-14T18:36:09.390928Z"
    }
   },
   "outputs": [],
   "source": [
    "#importing libraries\n",
    "import pandas as pd\n",
    "import numpy as np\n",
    "import random as rd\n",
    "from sklearn.decomposition import PCA\n",
    "from sklearn import preprocessing\n",
    "import matplotlib.pyplot as plt\n",
    "\n",
    "np.set_printoptions(threshold=100)"
   ]
  },
  {
   "cell_type": "code",
   "execution_count": 17,
   "metadata": {
    "ExecuteTime": {
     "end_time": "2019-04-14T18:36:09.449261Z",
     "start_time": "2019-04-14T18:36:09.406036Z"
    }
   },
   "outputs": [
    {
     "data": {
      "text/html": [
       "<div>\n",
       "<style scoped>\n",
       "    .dataframe tbody tr th:only-of-type {\n",
       "        vertical-align: middle;\n",
       "    }\n",
       "\n",
       "    .dataframe tbody tr th {\n",
       "        vertical-align: top;\n",
       "    }\n",
       "\n",
       "    .dataframe thead th {\n",
       "        text-align: right;\n",
       "    }\n",
       "</style>\n",
       "<table border=\"1\" class=\"dataframe\">\n",
       "  <thead>\n",
       "    <tr style=\"text-align: right;\">\n",
       "      <th></th>\n",
       "      <th>wt1</th>\n",
       "      <th>wt2</th>\n",
       "      <th>wt3</th>\n",
       "      <th>wt4</th>\n",
       "      <th>wt5</th>\n",
       "      <th>ko1</th>\n",
       "      <th>ko2</th>\n",
       "      <th>ko3</th>\n",
       "      <th>ko4</th>\n",
       "      <th>ko5</th>\n",
       "    </tr>\n",
       "  </thead>\n",
       "  <tbody>\n",
       "    <tr>\n",
       "      <th>gene1</th>\n",
       "      <td>NaN</td>\n",
       "      <td>NaN</td>\n",
       "      <td>NaN</td>\n",
       "      <td>NaN</td>\n",
       "      <td>NaN</td>\n",
       "      <td>NaN</td>\n",
       "      <td>NaN</td>\n",
       "      <td>NaN</td>\n",
       "      <td>NaN</td>\n",
       "      <td>NaN</td>\n",
       "    </tr>\n",
       "    <tr>\n",
       "      <th>gene2</th>\n",
       "      <td>NaN</td>\n",
       "      <td>NaN</td>\n",
       "      <td>NaN</td>\n",
       "      <td>NaN</td>\n",
       "      <td>NaN</td>\n",
       "      <td>NaN</td>\n",
       "      <td>NaN</td>\n",
       "      <td>NaN</td>\n",
       "      <td>NaN</td>\n",
       "      <td>NaN</td>\n",
       "    </tr>\n",
       "    <tr>\n",
       "      <th>gene3</th>\n",
       "      <td>NaN</td>\n",
       "      <td>NaN</td>\n",
       "      <td>NaN</td>\n",
       "      <td>NaN</td>\n",
       "      <td>NaN</td>\n",
       "      <td>NaN</td>\n",
       "      <td>NaN</td>\n",
       "      <td>NaN</td>\n",
       "      <td>NaN</td>\n",
       "      <td>NaN</td>\n",
       "    </tr>\n",
       "    <tr>\n",
       "      <th>gene4</th>\n",
       "      <td>NaN</td>\n",
       "      <td>NaN</td>\n",
       "      <td>NaN</td>\n",
       "      <td>NaN</td>\n",
       "      <td>NaN</td>\n",
       "      <td>NaN</td>\n",
       "      <td>NaN</td>\n",
       "      <td>NaN</td>\n",
       "      <td>NaN</td>\n",
       "      <td>NaN</td>\n",
       "    </tr>\n",
       "    <tr>\n",
       "      <th>gene5</th>\n",
       "      <td>NaN</td>\n",
       "      <td>NaN</td>\n",
       "      <td>NaN</td>\n",
       "      <td>NaN</td>\n",
       "      <td>NaN</td>\n",
       "      <td>NaN</td>\n",
       "      <td>NaN</td>\n",
       "      <td>NaN</td>\n",
       "      <td>NaN</td>\n",
       "      <td>NaN</td>\n",
       "    </tr>\n",
       "  </tbody>\n",
       "</table>\n",
       "</div>"
      ],
      "text/plain": [
       "       wt1  wt2  wt3  wt4  wt5  ko1  ko2  ko3  ko4  ko5\n",
       "gene1  NaN  NaN  NaN  NaN  NaN  NaN  NaN  NaN  NaN  NaN\n",
       "gene2  NaN  NaN  NaN  NaN  NaN  NaN  NaN  NaN  NaN  NaN\n",
       "gene3  NaN  NaN  NaN  NaN  NaN  NaN  NaN  NaN  NaN  NaN\n",
       "gene4  NaN  NaN  NaN  NaN  NaN  NaN  NaN  NaN  NaN  NaN\n",
       "gene5  NaN  NaN  NaN  NaN  NaN  NaN  NaN  NaN  NaN  NaN"
      ]
     },
     "execution_count": 17,
     "metadata": {},
     "output_type": "execute_result"
    }
   ],
   "source": [
    "#creating the dataframe we are going to use for the PCA analysis\n",
    "#genes will be our indexes, wt1, wt2..., ko1, ko2... will be our columns\n",
    "genes = ['gene' + str(i) for i in range (1,101)]\n",
    "\n",
    "wt = ['wt' + str(i) for i in range(1,6)] #wt == wild type\n",
    "ko = ['ko' + str(i) for i in range(1,6)] #ko == knock out\n",
    "\n",
    "#by using * before the columns names, it makes the data frame transforms each list element as a column\n",
    "#if you don't use it, you end up with something like [[wt1, wt2...],[ko1, ko2...]]:\n",
    "#   \twt1\twt2\twt3\twt4\twt5\n",
    "#       ko1\tko2\tko3\tko4\tko5\n",
    "# gene1\tNaN\tNaN\tNaN\tNaN\tNaN\n",
    "# gene2\tNaN\tNaN\tNaN\tNaN\tNaN\n",
    "# gene3\tNaN\tNaN\tNaN\tNaN\tNaN\n",
    "# gene4\tNaN\tNaN\tNaN\tNaN\tNaN\n",
    "# gene5\tNaN\tNaN\tNaN\tNaN\tNaN\n",
    "\n",
    "data = pd.DataFrame(columns = [*wt, *ko], index = genes) \n",
    "data.head()"
   ]
  },
  {
   "cell_type": "code",
   "execution_count": 18,
   "metadata": {
    "ExecuteTime": {
     "end_time": "2019-04-14T18:36:09.603374Z",
     "start_time": "2019-04-14T18:36:09.453163Z"
    }
   },
   "outputs": [
    {
     "data": {
      "text/html": [
       "<div>\n",
       "<style scoped>\n",
       "    .dataframe tbody tr th:only-of-type {\n",
       "        vertical-align: middle;\n",
       "    }\n",
       "\n",
       "    .dataframe tbody tr th {\n",
       "        vertical-align: top;\n",
       "    }\n",
       "\n",
       "    .dataframe thead th {\n",
       "        text-align: right;\n",
       "    }\n",
       "</style>\n",
       "<table border=\"1\" class=\"dataframe\">\n",
       "  <thead>\n",
       "    <tr style=\"text-align: right;\">\n",
       "      <th></th>\n",
       "      <th>wt1</th>\n",
       "      <th>wt2</th>\n",
       "      <th>wt3</th>\n",
       "      <th>wt4</th>\n",
       "      <th>wt5</th>\n",
       "      <th>ko1</th>\n",
       "      <th>ko2</th>\n",
       "      <th>ko3</th>\n",
       "      <th>ko4</th>\n",
       "      <th>ko5</th>\n",
       "    </tr>\n",
       "  </thead>\n",
       "  <tbody>\n",
       "    <tr>\n",
       "      <th>gene1</th>\n",
       "      <td>950</td>\n",
       "      <td>1042</td>\n",
       "      <td>963</td>\n",
       "      <td>974</td>\n",
       "      <td>940</td>\n",
       "      <td>627</td>\n",
       "      <td>608</td>\n",
       "      <td>605</td>\n",
       "      <td>602</td>\n",
       "      <td>619</td>\n",
       "    </tr>\n",
       "    <tr>\n",
       "      <th>gene2</th>\n",
       "      <td>387</td>\n",
       "      <td>417</td>\n",
       "      <td>412</td>\n",
       "      <td>392</td>\n",
       "      <td>403</td>\n",
       "      <td>708</td>\n",
       "      <td>694</td>\n",
       "      <td>697</td>\n",
       "      <td>654</td>\n",
       "      <td>624</td>\n",
       "    </tr>\n",
       "    <tr>\n",
       "      <th>gene3</th>\n",
       "      <td>618</td>\n",
       "      <td>570</td>\n",
       "      <td>565</td>\n",
       "      <td>571</td>\n",
       "      <td>594</td>\n",
       "      <td>166</td>\n",
       "      <td>145</td>\n",
       "      <td>137</td>\n",
       "      <td>129</td>\n",
       "      <td>141</td>\n",
       "    </tr>\n",
       "    <tr>\n",
       "      <th>gene4</th>\n",
       "      <td>892</td>\n",
       "      <td>909</td>\n",
       "      <td>888</td>\n",
       "      <td>916</td>\n",
       "      <td>983</td>\n",
       "      <td>957</td>\n",
       "      <td>886</td>\n",
       "      <td>891</td>\n",
       "      <td>912</td>\n",
       "      <td>922</td>\n",
       "    </tr>\n",
       "    <tr>\n",
       "      <th>gene5</th>\n",
       "      <td>238</td>\n",
       "      <td>224</td>\n",
       "      <td>216</td>\n",
       "      <td>195</td>\n",
       "      <td>214</td>\n",
       "      <td>128</td>\n",
       "      <td>116</td>\n",
       "      <td>117</td>\n",
       "      <td>127</td>\n",
       "      <td>128</td>\n",
       "    </tr>\n",
       "  </tbody>\n",
       "</table>\n",
       "</div>"
      ],
      "text/plain": [
       "       wt1   wt2  wt3  wt4  wt5  ko1  ko2  ko3  ko4  ko5\n",
       "gene1  950  1042  963  974  940  627  608  605  602  619\n",
       "gene2  387   417  412  392  403  708  694  697  654  624\n",
       "gene3  618   570  565  571  594  166  145  137  129  141\n",
       "gene4  892   909  888  916  983  957  886  891  912  922\n",
       "gene5  238   224  216  195  214  128  116  117  127  128"
      ]
     },
     "execution_count": 18,
     "metadata": {},
     "output_type": "execute_result"
    }
   ],
   "source": [
    "for gene in data.index:\n",
    "    #creating random values for each index of our columns wt,ko using a poisson distribution\n",
    "    #with means of the distribution ranging from 10 to 1000\n",
    "    data.loc[gene, 'wt1':'wt5'] = np.random.poisson(lam=rd.randrange(10, 1000), size=5)\n",
    "    data.loc[gene, 'ko1':'ko5'] = np.random.poisson(lam=rd.randrange(10, 1000), size=5)\n",
    "    \n",
    "data.head()"
   ]
  },
  {
   "cell_type": "code",
   "execution_count": 19,
   "metadata": {
    "ExecuteTime": {
     "end_time": "2019-04-14T18:36:09.622728Z",
     "start_time": "2019-04-14T18:36:09.609698Z"
    }
   },
   "outputs": [
    {
     "data": {
      "text/plain": [
       "(100, 10)"
      ]
     },
     "execution_count": 19,
     "metadata": {},
     "output_type": "execute_result"
    }
   ],
   "source": [
    "#checking the shape of our datafram (100 rows and 10 columns)\n",
    "data.shape"
   ]
  },
  {
   "cell_type": "code",
   "execution_count": 20,
   "metadata": {
    "ExecuteTime": {
     "end_time": "2019-04-14T18:36:09.653737Z",
     "start_time": "2019-04-14T18:36:09.629280Z"
    }
   },
   "outputs": [
    {
     "name": "stderr",
     "output_type": "stream",
     "text": [
      "/Users/Guilherme/.virtualenvs/DH_3.6.8/lib/python3.6/site-packages/ipykernel_launcher.py:8: DataConversionWarning: Data with input dtype int64 were all converted to float64 by the scale function.\n",
      "  \n"
     ]
    },
    {
     "data": {
      "text/plain": [
       "array([[ 0.85932053, -1.09489047,  1.15309434, ..., -1.01703955,\n",
       "        -0.99438367, -1.01717327],\n",
       "       [ 1.36287141, -0.87850896,  0.93552937, ..., -0.97474301,\n",
       "        -1.03179464, -0.97998229],\n",
       "       [ 0.93047445, -0.91457254,  0.91286635, ..., -0.88630479,\n",
       "        -1.08417   , -1.05436425],\n",
       "       ...,\n",
       "       [-1.02899528,  1.14105187, -1.02708796, ...,  0.84016311,\n",
       "         0.80134304,  1.2235832 ],\n",
       "       [-1.04541542,  0.83090502, -1.06334879, ...,  1.04011039,\n",
       "         0.94350474,  1.02833057],\n",
       "       [-0.95236797,  0.61452351, -1.00895755, ...,  0.95551731,\n",
       "         1.15300619,  0.7865892 ]])"
      ]
     },
     "execution_count": 20,
     "metadata": {},
     "output_type": "execute_result"
    }
   ],
   "source": [
    "#in order to make a correct PCA analysis, we will normalize the data since the PCA algorithm uses distances\n",
    "#based on the values of the elements to make its analysis. So, the unit will impact on the PCA choice\n",
    "\n",
    "#we are also transposing our matrix before scaling it, because our samples are in our columns,\n",
    "#and the scale atribute expects our samples to be in our rows\n",
    "#why we put our samples in the columns instead of the rows?\n",
    "#because genetic information usually is stored in this way\n",
    "scaled_data = preprocessing.scale(data.T)\n",
    "scaled_data"
   ]
  },
  {
   "cell_type": "code",
   "execution_count": 21,
   "metadata": {
    "ExecuteTime": {
     "end_time": "2019-04-14T18:36:09.678158Z",
     "start_time": "2019-04-14T18:36:09.658558Z"
    }
   },
   "outputs": [
    {
     "name": "stderr",
     "output_type": "stream",
     "text": [
      "/Users/Guilherme/.virtualenvs/DH_3.6.8/lib/python3.6/site-packages/sklearn/preprocessing/data.py:625: DataConversionWarning: Data with input dtype int64 were all converted to float64 by StandardScaler.\n",
      "  return self.partial_fit(X, y)\n",
      "/Users/Guilherme/.virtualenvs/DH_3.6.8/lib/python3.6/site-packages/sklearn/base.py:462: DataConversionWarning: Data with input dtype int64 were all converted to float64 by StandardScaler.\n",
      "  return self.fit(X, **fit_params).transform(X)\n"
     ]
    },
    {
     "data": {
      "text/plain": [
       "array([[ 0.85932053, -1.09489047,  1.15309434, ..., -1.01703955,\n",
       "        -0.99438367, -1.01717327],\n",
       "       [ 1.36287141, -0.87850896,  0.93552937, ..., -0.97474301,\n",
       "        -1.03179464, -0.97998229],\n",
       "       [ 0.93047445, -0.91457254,  0.91286635, ..., -0.88630479,\n",
       "        -1.08417   , -1.05436425],\n",
       "       ...,\n",
       "       [-1.02899528,  1.14105187, -1.02708796, ...,  0.84016311,\n",
       "         0.80134304,  1.2235832 ],\n",
       "       [-1.04541542,  0.83090502, -1.06334879, ...,  1.04011039,\n",
       "         0.94350474,  1.02833057],\n",
       "       [-0.95236797,  0.61452351, -1.00895755, ...,  0.95551731,\n",
       "         1.15300619,  0.7865892 ]])"
      ]
     },
     "execution_count": 21,
     "metadata": {},
     "output_type": "execute_result"
    }
   ],
   "source": [
    "#another option is using .StandardScaler().fit_transform, more usuall in machine learning\n",
    "#when separating the training data from the test data\n",
    "sc = preprocessing.StandardScaler()\n",
    "scaled_data2 = sc.fit_transform(data.T)\n",
    "scaled_data2"
   ]
  },
  {
   "cell_type": "code",
   "execution_count": 22,
   "metadata": {
    "ExecuteTime": {
     "end_time": "2019-04-14T18:36:10.060405Z",
     "start_time": "2019-04-14T18:36:09.683312Z"
    }
   },
   "outputs": [
    {
     "data": {
      "text/plain": [
       "<function matplotlib.pyplot.show(*args, **kw)>"
      ]
     },
     "execution_count": 22,
     "metadata": {},
     "output_type": "execute_result"
    },
    {
     "data": {
      "image/png": "[encoded data removed]",
      "text/plain": [
       "<Figure size 432x288 with 1 Axes>"
      ]
     },
     "metadata": {
      "needs_background": "light"
     },
     "output_type": "display_data"
    }
   ],
   "source": [
    "#now, let's create a PCA() object so we can \"train\" it\n",
    "pca = PCA()\n",
    "pca.fit(scaled_data)\n",
    "pca_data = pca.transform(scaled_data)\n",
    "\n",
    "#with our fited data, now let's check each variance of our principal components\n",
    "per_var = np.round(pca.explained_variance_ratio_*100, decimals = 1)\n",
    "labels = ['PC' + str(i) for i in range(1, len(per_var) + 1)]\n",
    "\n",
    "#creating a bar plot to see each PC variance graphically\n",
    "plt.bar(x = range(1, len(per_var)+1), height=per_var, tick_label= labels)\n",
    "plt.ylabel('Percentage of Explained Variance')\n",
    "plt.xlabel('Principal Component')\n",
    "plt.title('Scree Plot')\n",
    "plt.show"
   ]
  },
  {
   "cell_type": "code",
   "execution_count": 23,
   "metadata": {
    "ExecuteTime": {
     "end_time": "2019-04-14T18:36:10.485389Z",
     "start_time": "2019-04-14T18:36:10.065624Z"
    }
   },
   "outputs": [
    {
     "data": {
      "image/png": "[encoded data removed]",
      "text/plain": [
       "<Figure size 432x288 with 1 Axes>"
      ]
     },
     "metadata": {
      "needs_background": "light"
     },
     "output_type": "display_data"
    }
   ],
   "source": [
    "#in order to create a PCA plot, we will first put the new coordinates created by pca.fit(scaled_data)\n",
    "pca_df = pd.DataFrame(pca_data, index = [*wt, *ko], columns = labels)\n",
    "\n",
    "#creating scatter plot\n",
    "plt.scatter(pca_df.PC1, pca_df.PC2)\n",
    "plt.title('My PCA Graph')\n",
    "plt.xlabel('PC1 - {0}%'.format(per_var[0]))\n",
    "plt.ylabel('PC2 - {0}%'.format(per_var[1]))\n",
    "\n",
    "for sample in pca_df.index:\n",
    "    plt.annotate(sample, (pca_df.PC1.loc[sample], pca_df.PC2.loc[sample]))\n"
   ]
  },
  {
   "cell_type": "code",
   "execution_count": 24,
   "metadata": {
    "ExecuteTime": {
     "end_time": "2019-04-14T18:36:10.506344Z",
     "start_time": "2019-04-14T18:36:10.489900Z"
    }
   },
   "outputs": [
    {
     "name": "stdout",
     "output_type": "stream",
     "text": [
      "gene24    0.105962\n",
      "gene75   -0.105933\n",
      "gene56   -0.105912\n",
      "gene58    0.105912\n",
      "gene71   -0.105886\n",
      "gene91   -0.105858\n",
      "gene66   -0.105856\n",
      "gene57   -0.105838\n",
      "gene97   -0.105826\n",
      "gene55    0.105823\n",
      "dtype: float64\n"
     ]
    }
   ],
   "source": [
    "#creating scores to see which gene was responsible for the separation of the two clusters in the x axis\n",
    "loading_scores = pd.Series(pca.components_[0], index = genes)\n",
    "\n",
    "#sorting the scores based on their absolute values\n",
    "sorted_loading_scores = loading_scores.abs().sort_values(ascending = False)\n",
    "\n",
    "#getting the name of the top 10 indexes\n",
    "top_10_genes = sorted_loading_scores[:10].index.values\n",
    "print(loading_scores[top_10_genes])"
   ]
  },
  {
   "cell_type": "code",
   "execution_count": null,
   "metadata": {},
   "outputs": [],
   "source": []
  },
  {
   "cell_type": "code",
   "execution_count": null,
   "metadata": {},
   "outputs": [],
   "source": []
  }
 ],
 "metadata": {
  "hide_input": false,
  "kernelspec": {
   "display_name": "Python 3",
   "language": "python",
   "name": "python3"
  },
  "language_info": {
   "codemirror_mode": {
    "name": "ipython",
    "version": 3
   },
   "file_extension": ".py",
   "mimetype": "text/x-python",
   "name": "python",
   "nbconvert_exporter": "python",
   "pygments_lexer": "ipython3",
   "version": "3.6.8"
  },
  "varInspector": {
   "cols": {
    "lenName": 16,
    "lenType": 16,
    "lenVar": 40
   },
   "kernels_config": {
    "python": {
     "delete_cmd_postfix": "",
     "delete_cmd_prefix": "del ",
     "library": "var_list.py",
     "varRefreshCmd": "print(var_dic_list())"
    },
    "r": {
     "delete_cmd_postfix": ") ",
     "delete_cmd_prefix": "rm(",
     "library": "var_list.r",
     "varRefreshCmd": "cat(var_dic_list()) "
    }
   },
   "types_to_exclude": [
    "module",
    "function",
    "builtin_function_or_method",
    "instance",
    "_Feature"
   ],
   "window_display": false
  }
 },
 "nbformat": 4,
 "nbformat_minor": 2
}
